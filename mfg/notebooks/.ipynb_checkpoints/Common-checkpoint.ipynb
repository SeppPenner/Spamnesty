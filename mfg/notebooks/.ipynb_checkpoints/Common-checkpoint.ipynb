{
 "cells": [
  {
   "cell_type": "markdown",
   "metadata": {
    "deletable": true,
    "editable": true
   },
   "source": [
    "# Spamnesty"
   ]
  },
  {
   "cell_type": "code",
   "execution_count": 5,
   "metadata": {
    "collapsed": false,
    "deletable": true,
    "editable": true
   },
   "outputs": [
    {
     "name": "stdout",
     "output_type": "stream",
     "text": [
      "Total conversations: 5030\n",
      "Total classified: 197\n"
     ]
    }
   ],
   "source": [
    "# Interesting data about the application\n",
    "from main.models import Conversation\n",
    "convs = Conversation.objects.all()\n",
    "print(\"Total conversations: \"+str(len(convs)))\n",
    "print(\"Total classified: \"+str(len(convs.filter(classified=True))))"
   ]
  },
  {
   "cell_type": "code",
   "execution_count": 4,
   "metadata": {
    "collapsed": false,
    "deletable": true,
    "editable": true
   },
   "outputs": [],
   "source": [
    "# Dump the main data to fixtures\n",
    "!cd ../..;python manage.py dumpdata  main >mfg/fixtures/main.json"
   ]
  },
  {
   "cell_type": "markdown",
   "metadata": {
    "deletable": true,
    "editable": true
   },
   "source": [
    "# Environment"
   ]
  },
  {
   "cell_type": "markdown",
   "metadata": {
    "deletable": true,
    "editable": true
   },
   "source": [
    "The command for launching this with django:\n",
    "\n",
    "```\n",
    "python manage.py shell_plus --notebook\n",
    "\n",
    "```"
   ]
  },
  {
   "cell_type": "markdown",
   "metadata": {
    "deletable": true,
    "editable": true
   },
   "source": [
    "Get tracebacks for warnings"
   ]
  },
  {
   "cell_type": "code",
   "execution_count": 2,
   "metadata": {
    "collapsed": true,
    "deletable": true,
    "editable": true
   },
   "outputs": [
    {
     "name": "stderr",
     "output_type": "stream",
     "text": [
      "  File \"/usr/lib/python3.5/runpy.py\", line 193, in _run_module_as_main\n",
      "    \"__main__\", mod_spec)\n",
      "  File \"/usr/lib/python3.5/runpy.py\", line 85, in _run_code\n",
      "    exec(code, run_globals)\n",
      "  File \"/home/mgering/Envs/stavros/lib/python3.5/site-packages/ipykernel/__main__.py\", line 3, in <module>\n",
      "    app.launch_new_instance()\n",
      "  File \"/home/mgering/Envs/stavros/lib/python3.5/site-packages/traitlets/config/application.py\", line 658, in launch_instance\n",
      "    app.start()\n",
      "  File \"/home/mgering/Envs/stavros/lib/python3.5/site-packages/ipykernel/kernelapp.py\", line 474, in start\n",
      "    ioloop.IOLoop.instance().start()\n",
      "  File \"/home/mgering/Envs/stavros/lib/python3.5/site-packages/zmq/eventloop/ioloop.py\", line 177, in start\n",
      "    super(ZMQIOLoop, self).start()\n",
      "  File \"/home/mgering/Envs/stavros/lib/python3.5/site-packages/tornado/ioloop.py\", line 887, in start\n",
      "    handler_func(fd_obj, events)\n",
      "  File \"/home/mgering/Envs/stavros/lib/python3.5/site-packages/tornado/stack_context.py\", line 275, in null_wrapper\n",
      "    return fn(*args, **kwargs)\n",
      "  File \"/home/mgering/Envs/stavros/lib/python3.5/site-packages/zmq/eventloop/zmqstream.py\", line 440, in _handle_events\n",
      "    self._handle_recv()\n",
      "  File \"/home/mgering/Envs/stavros/lib/python3.5/site-packages/zmq/eventloop/zmqstream.py\", line 472, in _handle_recv\n",
      "    self._run_callback(callback, msg)\n",
      "  File \"/home/mgering/Envs/stavros/lib/python3.5/site-packages/zmq/eventloop/zmqstream.py\", line 414, in _run_callback\n",
      "    callback(*args, **kwargs)\n",
      "  File \"/home/mgering/Envs/stavros/lib/python3.5/site-packages/tornado/stack_context.py\", line 275, in null_wrapper\n",
      "    return fn(*args, **kwargs)\n",
      "  File \"/home/mgering/Envs/stavros/lib/python3.5/site-packages/ipykernel/kernelbase.py\", line 276, in dispatcher\n",
      "    return self.dispatch_shell(stream, msg)\n",
      "  File \"/home/mgering/Envs/stavros/lib/python3.5/site-packages/ipykernel/kernelbase.py\", line 228, in dispatch_shell\n",
      "    handler(stream, idents, msg)\n",
      "  File \"/home/mgering/Envs/stavros/lib/python3.5/site-packages/ipykernel/kernelbase.py\", line 407, in execute_request\n",
      "    ident=ident)\n",
      "  File \"/home/mgering/Envs/stavros/lib/python3.5/site-packages/jupyter_client/session.py\", line 712, in send\n",
      "    to_send = self.serialize(msg, ident)\n",
      "  File \"/home/mgering/Envs/stavros/lib/python3.5/site-packages/jupyter_client/session.py\", line 619, in serialize\n",
      "    self.pack(msg['metadata']),\n",
      "  File \"/home/mgering/Envs/stavros/lib/python3.5/site-packages/jupyter_client/session.py\", line 103, in <lambda>\n",
      "    ensure_ascii=False, allow_nan=False,\n",
      "  File \"/home/mgering/Envs/stavros/lib/python3.5/site-packages/zmq/utils/jsonapi.py\", line 40, in dumps\n",
      "    s = jsonmod.dumps(o, **kwargs)\n",
      "  File \"/usr/lib/python3.5/json/__init__.py\", line 237, in dumps\n",
      "    **kw).encode(obj)\n",
      "  File \"/usr/lib/python3.5/json/encoder.py\", line 198, in encode\n",
      "    chunks = self.iterencode(o, _one_shot=True)\n",
      "  File \"/usr/lib/python3.5/json/encoder.py\", line 256, in iterencode\n",
      "    return _iterencode(o, 0)\n",
      "  File \"/home/mgering/Envs/stavros/lib/python3.5/site-packages/jupyter_client/jsonutil.py\", line 90, in date_default\n",
      "    obj = _ensure_tzinfo(obj)\n",
      "  File \"/home/mgering/Envs/stavros/lib/python3.5/site-packages/jupyter_client/jsonutil.py\", line 43, in _ensure_tzinfo\n",
      "    stacklevel=4)\n",
      "  File \"<ipython-input-2-e9d9e6afbffd>\", line 8, in warn_with_traceback\n",
      "    traceback.print_stack(file=log)\n",
      "/usr/lib/python3.5/json/encoder.py:198: DeprecationWarning: Interpreting naive datetime as local 2017-03-02 12:40:34.669371. Please add timezone info to timestamps.\n",
      "  chunks = self.iterencode(o, _one_shot=True)\n"
     ]
    }
   ],
   "source": [
    "import traceback\n",
    "import warnings\n",
    "import sys\n",
    "\n",
    "def warn_with_traceback(message, category, filename, lineno, file=None, line=None):\n",
    "\n",
    "    log = file if hasattr(file,'write') else sys.stderr\n",
    "    traceback.print_stack(file=log)\n",
    "    log.write(warnings.formatwarning(message, category, filename, lineno, line))\n",
    "\n",
    "warnings.showwarning = warn_with_traceback"
   ]
  },
  {
   "cell_type": "code",
   "execution_count": 5,
   "metadata": {
    "collapsed": false,
    "deletable": true,
    "editable": true,
    "scrolled": true
   },
   "outputs": [],
   "source": [
    "# Monkey-patch jupyter to avoid annoying deprecation warnings about missing timezone in datetime\n",
    "import jupyter_client.jsonutil\n",
    "def monkey_patch1(dt):\n",
    "    return dt\n",
    "jupyter_client.jsonutil._ensure_tzinfo = monkey_patch1"
   ]
  },
  {
   "cell_type": "code",
   "execution_count": null,
   "metadata": {
    "collapsed": true,
    "deletable": true,
    "editable": true
   },
   "outputs": [],
   "source": []
  }
 ],
 "metadata": {
  "kernelspec": {
   "display_name": "Django Shell-Plus",
   "language": "python",
   "name": "django_extensions"
  },
  "language_info": {
   "codemirror_mode": {
    "name": "ipython",
    "version": 3
   },
   "file_extension": ".py",
   "mimetype": "text/x-python",
   "name": "python",
   "nbconvert_exporter": "python",
   "pygments_lexer": "ipython3",
   "version": "3.5.2+"
  }
 },
 "nbformat": 4,
 "nbformat_minor": 2
}
